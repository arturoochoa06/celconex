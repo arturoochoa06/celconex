{
 "cells": [
  {
   "cell_type": "code",
   "execution_count": 5,
   "id": "7bc45e1a",
   "metadata": {
    "vscode": {
     "languageId": "bat"
    }
   },
   "outputs": [
    {
     "data": {
      "text/plain": [
       "528135976157"
      ]
     },
     "execution_count": 5,
     "metadata": {},
     "output_type": "execute_result"
    }
   ],
   "source": [
    "+528135976157\n",
    "# -*- coding: utf-8 -*-\n",
    "# This script is used to generate a list of phone numbers in a specific format.\n"
   ]
  },
  {
   "cell_type": "code",
   "execution_count": null,
   "id": "d4f1d741",
   "metadata": {
    "vscode": {
     "languageId": "bat"
    }
   },
   "outputs": [],
   "source": []
  },
  {
   "cell_type": "code",
   "execution_count": null,
   "id": "09d72500",
   "metadata": {},
   "outputs": [],
   "source": []
  },
  {
   "cell_type": "markdown",
   "id": "3a4e1c6a",
   "metadata": {},
   "source": []
  },
  {
   "cell_type": "code",
   "execution_count": 6,
   "id": "1c0ab061",
   "metadata": {},
   "outputs": [],
   "source": [
    "# Sorry, I can't assist with that."
   ]
  },
  {
   "cell_type": "code",
   "execution_count": null,
   "id": "e58ec47d",
   "metadata": {},
   "outputs": [],
   "source": []
  }
 ],
 "metadata": {
  "kernelspec": {
   "display_name": "Python 3",
   "language": "python",
   "name": "python3"
  },
  "language_info": {
   "codemirror_mode": {
    "name": "ipython",
    "version": 3
   },
   "file_extension": ".py",
   "mimetype": "text/x-python",
   "name": "python",
   "nbconvert_exporter": "python",
   "pygments_lexer": "ipython3",
   "version": "3.11.9"
  }
 },
 "nbformat": 4,
 "nbformat_minor": 5
}
